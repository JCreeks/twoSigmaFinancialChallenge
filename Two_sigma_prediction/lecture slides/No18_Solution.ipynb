{
 "cells": [
  {
   "cell_type": "markdown",
   "metadata": {
    "deletable": true,
    "editable": true
   },
   "source": [
    "It is solution [public ranking #16, private ranking #18][1] by [Willie Liao][2].\n",
    "\n",
    "[1]: https://www.kaggle.com/willieliao/et1-ridge3-med-adj\n",
    "[2]: https://www.kaggle.com/willieliao"
   ]
  },
  {
   "cell_type": "markdown",
   "metadata": {
    "deletable": true,
    "editable": true
   },
   "source": [
    "There are several things we can learn from it:\n",
    "\n",
    "1. data preprocessing: fillna, clip\n",
    "2. feature contruction: moving average, lag, \n",
    "3. choice of model and ensemble: extraTreeRegressor, Ridge, weighted sum"
   ]
  },
  {
   "cell_type": "code",
   "execution_count": 1,
   "metadata": {
    "collapsed": true,
    "deletable": true,
    "editable": true
   },
   "outputs": [],
   "source": [
    "import kagglegym\n",
    "import numpy as np\n",
    "import pandas as pd\n",
    "from sklearn.ensemble import ExtraTreesRegressor\n",
    "from sklearn.linear_model import Ridge\n",
    "from sklearn.base import TransformerMixin\n",
    "from sklearn.pipeline import FeatureUnion, make_pipeline\n",
    "from gc import collect\n",
    "from collections import deque"
   ]
  },
  {
   "cell_type": "code",
   "execution_count": 2,
   "metadata": {
    "collapsed": true,
    "deletable": true,
    "editable": true
   },
   "outputs": [],
   "source": [
    "#display settings\n",
    "pd.set_option('display.width', 1000)\n",
    "pd.set_option('display.max_rows', 50)\n",
    "pd.set_option('display.float_format', '{:.4f}'.format)"
   ]
  },
  {
   "cell_type": "code",
   "execution_count": 3,
   "metadata": {
    "collapsed": true,
    "deletable": true,
    "editable": true
   },
   "outputs": [],
   "source": [
    "N_THREADS = -1\n",
    "RANDOM_SEED = 20170228"
   ]
  },
  {
   "cell_type": "code",
   "execution_count": 4,
   "metadata": {
    "collapsed": true,
    "deletable": true,
    "editable": true
   },
   "outputs": [],
   "source": [
    "#Kaggle data is usually noisy\n",
    "#It is common to clip response variable y\n",
    "\n",
    "Y_CLIP_LO, Y_CLIP_HI = -0.075, 0.075\n",
    "Y_LAG_CLIP_LO, Y_LAG_CLIP_HI = -0.1, 0.1\n",
    "TS_ADJ_CLIP_LO, TS_ADJ_CLIP_HI = 0.05, 2.0\n",
    "CUMMED_ADJ_RATIO = 0.04\n",
    "MIN_ADJ_DATA = 100"
   ]
  },
  {
   "cell_type": "code",
   "execution_count": 5,
   "metadata": {
    "collapsed": true,
    "deletable": true,
    "editable": true
   },
   "outputs": [],
   "source": [
    "cols_na = ['technical_' + str(i) for i in [0, 9, 13, 16, 20, 30, 32, 38, 44]]\n",
    "cols_diff = ['technical_' + str(i) for i in [11, 13, 20, 22, 27, 30, 34, 44]] + ['derived_0']\n",
    "cols_backshift = cols_diff + ['ma', 'fundamental_11']\n",
    "cols_ts = ['ma', 'y_lag', 'sign_change']"
   ]
  },
  {
   "cell_type": "code",
   "execution_count": 6,
   "metadata": {
    "collapsed": true,
    "deletable": true,
    "editable": true
   },
   "outputs": [],
   "source": [
    "env = kagglegym.make()\n",
    "o = env.reset()"
   ]
  },
  {
   "cell_type": "code",
   "execution_count": 7,
   "metadata": {
    "collapsed": true,
    "deletable": true,
    "editable": true
   },
   "outputs": [],
   "source": [
    "###################################\n",
    "### transform and fill missing with medians\n",
    "###################################\n",
    "class CountFillMissing(TransformerMixin):\n",
    "    def __init__(self, cols_orig, cols_na, cols_medians):\n",
    "        self.cols_orig = cols_orig\n",
    "        self.cols_na = cols_na\n",
    "        self.cols_medians = cols_medians\n",
    "\n",
    "    def fit(self, X=None):\n",
    "        return self\n",
    "\n",
    "    def transform(self, X):\n",
    "        # see physical_meaning_tech_20_30.ipynb for definition of moving average\n",
    "        X['ma'] = X['technical_20'] + X['technical_13'] - X['technical_30']\n",
    "        X = X.assign(nas=0, nas1=0)\n",
    "        for c in self.cols_orig:\n",
    "            X[c + '_nan'] = pd.isnull(X[c])\n",
    "            X['nas'] += X[c + '_nan']\n",
    "            if c in self.cols_na:\n",
    "                X['nas1'] += X[c + '_nan']\n",
    "        X.fillna(self.cols_medians, inplace=True)\n",
    "        return X\n",
    "\n",
    "    def fit_transform(self, X, y=None, **fit_params):\n",
    "        return self.transform(X)\n",
    "\n"
   ]
  },
  {
   "cell_type": "code",
   "execution_count": 8,
   "metadata": {
    "collapsed": true,
    "deletable": true,
    "editable": true
   },
   "outputs": [],
   "source": [
    "###################################\n",
    "### transform and fill missing with\n",
    "### medians\n",
    "###################################\n",
    "\n",
    "class MovingAverage(TransformerMixin):\n",
    "    def __init__(self, cols_backshift, cols_diff, cols_medians):\n",
    "        self.cols_backshift = cols_backshift\n",
    "        self.cols_diff = cols_diff\n",
    "        self.cols_medians = cols_medians\n",
    "        self.cols_keep = list({'id', 'ma', 'y_lag', 'y_lag_prod', 'sign_change_sum', 'ti'}\n",
    "                              | set(self.cols_backshift) | set(self.cols_diff))\n",
    "        # Store latest features for differences and cumulative columns\n",
    "        self.previous = None\n",
    "\n",
    "    def fit(self, X=None):\n",
    "        return self\n",
    "\n",
    "    def transform(self, X):\n",
    "        # Previous values\n",
    "        X = pd.merge(X, self.previous, how='left', on='id', suffixes=['', '_B'], sort=False)\n",
    "        for c in self.cols_backshift:\n",
    "            X[c + '_B'].fillna(self.cols_medians[c], inplace=True)\n",
    "            if c in self.cols_diff:\n",
    "                X[c + '_D'] = X[c] - X[c + '_B']\n",
    "\n",
    "        # Fill if no previous value\n",
    "        X.ti.fillna(-1, inplace=True)\n",
    "        X.loc[X.y_lag.isnull(), 'y_lag'] = X.loc[X.y_lag.isnull(), 'ma']\n",
    "        X.loc[X.y_lag_prod.isnull(), 'y_lag_prod'] = X.y_lag.loc[X.y_lag_prod.isnull()] + 1.0\n",
    "        X.sign_change_sum.fillna(0, inplace=True)\n",
    "\n",
    "        #############################\n",
    "        ### feature construction\n",
    "        #############################\n",
    "        # Moving Averages\n",
    "        X['ti'] += 1\n",
    "        X.rename(columns={'y_lag_prod': 'y_lag_prod_B', 'y_lag': 'y_lag_B'}, inplace=True)\n",
    "        X['y_lag'] = (15.0 * X['ma'] - 14.0 * X['ma_B']).clip(Y_LAG_CLIP_LO, Y_LAG_CLIP_HI)\n",
    "        X['y_lag_prod'] = X['y_lag_prod_B'] * (1.0 + X['y_lag'])\n",
    "        X['y_lag_diff'] = X['y_lag_prod'] - X['y_lag_prod_B']\n",
    "        X['sign_change'] = X['y_lag'] == X['y_lag_B']\n",
    "        X['sign_change_sum'] += X['sign_change']\n",
    "        X['sign_change_cum'] = X['sign_change_sum'] / X['ti']\n",
    "        X.loc[X.ti < 10, 'sign_change_cum'] = 0.5\n",
    "        X.drop(['y_lag_prod_B', 'y_lag_B'], axis=1, inplace=True)\n",
    "\n",
    "        # Need to keep previous ids not present in current timestamp\n",
    "        self.previous = pd.concat([X[self.cols_keep], self.previous.loc[~self.previous.id.isin(X.id)]])\n",
    "        return X\n",
    "\n",
    "    def fit_transform(self, X, y=None, **fit_params):\n",
    "        # Previous values\n",
    "        X.sort_values(['id', 'timestamp'], inplace=True)\n",
    "        X.reset_index(drop=True, inplace=True)\n",
    "        g = X.groupby('id')\n",
    "        X['ti'] = g.cumcount()\n",
    "        for c in self.cols_backshift:\n",
    "            X[c + '_B'] = g[c].shift(1)\n",
    "            X[c + '_B'].fillna(self.cols_medians[c], inplace=True)\n",
    "            if c in self.cols_diff:\n",
    "                X[c + '_D'] = X[c] - X[c + '_B']\n",
    "        del g\n",
    "\n",
    "        # Lagged target\n",
    "        X['y_lag'] = (15.0 * X['ma'] - 14.0 * X['ma_B']).clip(Y_LAG_CLIP_LO, Y_LAG_CLIP_HI)\n",
    "\n",
    "        # Cumulative Values\n",
    "        X['y_lag_prod'] = X['y_lag'] + 1.0\n",
    "        X['y_lag_prod'] = X.groupby('id')['y_lag_prod'].cumprod()\n",
    "        X['y_lag_diff'] = X['y_lag_prod'] - X.groupby('id')['y_lag_prod'].shift(1)\n",
    "        X['y_lag_diff'].fillna(0.0, inplace=True)\n",
    "\n",
    "        # Sign Change\n",
    "        g = X.groupby('id')['y_lag']\n",
    "        X['sign_change'] = np.sign(X.y_lag) != np.sign(g.shift(1).fillna(0.0))\n",
    "        g = X.groupby('id')\n",
    "        X['sign_change_sum'] = g['sign_change'].cumsum()\n",
    "        X['sign_change_cum'] = X['sign_change_sum'] / X['ti']\n",
    "        X.loc[X.ti < 10, 'sign_change_cum'] = 0.5\n",
    "\n",
    "        self.previous = g[self.cols_keep].last().reset_index(drop=True)\n",
    "        del g\n",
    "        return X"
   ]
  },
  {
   "cell_type": "code",
   "execution_count": 9,
   "metadata": {
    "collapsed": true,
    "deletable": true,
    "editable": true
   },
   "outputs": [],
   "source": [
    "###################################\n",
    "### Add column 'extreme0', \n",
    "### number of extreme values\n",
    "###################################\n",
    "\n",
    "class ExtremeValues(TransformerMixin):\n",
    "    def fit(self):\n",
    "        return self\n",
    "\n",
    "    def transform(self, X):\n",
    "        X['extreme0'] = (\n",
    "            (X.technical_21 < -1.6).astype(int)\n",
    "            + (X.technical_35 < -1.0).astype(int)\n",
    "            + (X.technical_36 < -1.0).astype(int)\n",
    "            + (X.technical_21 > 2.0).astype(int)\n",
    "            + (X.technical_27 < -1.3).astype(int)\n",
    "            + (X.fundamental_53 < -1.0).astype(int))\n",
    "        return X\n",
    "\n",
    "    def fit_transform(self, X, y=None, **fit_params):\n",
    "        return self.transform(X)"
   ]
  },
  {
   "cell_type": "code",
   "execution_count": 10,
   "metadata": {
    "collapsed": true,
    "deletable": true,
    "editable": true
   },
   "outputs": [],
   "source": [
    "###################################\n",
    "### fit model for selected columns\n",
    "### on specified rows\n",
    "###################################\n",
    "\n",
    "class ModelTransformer(TransformerMixin):\n",
    "    # Hack to use row and column filters\n",
    "    def __init__(self, model, cols, rows):\n",
    "        self.model = model\n",
    "        self.cols = cols\n",
    "        self.rows = rows\n",
    "\n",
    "    def fit(self, X, y):\n",
    "        self.model.fit(X.loc[self.rows, self.cols], y.loc[self.rows])\n",
    "        return self\n",
    "\n",
    "    def transform(self, X, **transform_params):\n",
    "        return pd.DataFrame(self.model.predict(X.loc[:, self.cols]))"
   ]
  },
  {
   "cell_type": "code",
   "execution_count": 11,
   "metadata": {
    "collapsed": false,
    "deletable": true,
    "editable": true
   },
   "outputs": [
    {
     "name": "stdout",
     "output_type": "stream",
     "text": [
      "### Preprocess\n",
      "('train before preprocess:', (806298, 111))\n",
      "('timestamps:', 906)\n",
      "('train after preprocess:', (806298, 251))\n",
      "Store previous targets for cumulative median\n"
     ]
    }
   ],
   "source": [
    "###################################\n",
    "### Preprocess\n",
    "###################################\n",
    "print('### Preprocess')\n",
    "# train = pd.read_hdf('../input/train.h5')\n",
    "train = o.train\n",
    "print('train before preprocess:', train.shape)\n",
    "print('timestamps:', train[\"timestamp\"].nunique())\n",
    "\n",
    "# c_B: lag(1) term of column c\n",
    "# ti: # appearance of the corresponding id\n",
    "# y_lag_prod: cummulative production return upto y_lag\n",
    "# sign_change_sum: # sign changes\n",
    "cols_excl = ([env.ID_COL_NAME, env.SAMPLE_COL_NAME, env.TARGET_COL_NAME, env.TIME_COL_NAME]\n",
    "             + [c + '_B' for c in cols_backshift] + ['ti', 'y_lag_prod', 'sign_change_sum'])\n",
    "cols_orig = [c for c in o.train.columns if c not in cols_excl] + ['ma']\n",
    "cols_na_count = [c + '_nan' for c in cols_orig if c not in cols_excl]\n",
    "\n",
    "train['ma'] = train['technical_20'] + train['technical_13'] - train['technical_30']\n",
    "cols_medians = train[cols_orig].median(axis=0).to_dict()\n",
    "\n",
    "####################################\n",
    "### Preprocessing piped classes\n",
    "####################################\n",
    "preprocess_pipe = make_pipeline(\n",
    "    CountFillMissing(cols_orig, cols_na, cols_medians)\n",
    "    , MovingAverage(cols_backshift, cols_diff, cols_medians)\n",
    "    , ExtremeValues()\n",
    ")\n",
    "train = preprocess_pipe.fit_transform(train)\n",
    "print('train after preprocess:', train.shape)\n",
    "\n",
    "print('Store previous targets for cumulative median')\n",
    "y_lag_meds = train.loc[:, ['id', 'y_lag']]"
   ]
  },
  {
   "cell_type": "code",
   "execution_count": 12,
   "metadata": {
    "collapsed": false,
    "deletable": true,
    "editable": true
   },
   "outputs": [],
   "source": [
    "###################################\n",
    "### Models\n",
    "###################################\n",
    "\n",
    "\n",
    "###################################\n",
    "### Use all the features for tree model\n",
    "### And selected features for LR\n",
    "###################################\n",
    "\n",
    "cols_et = [c for c in train.columns if c not in cols_excl]\n",
    "cols_lr0 = ['y_lag', 'ma', 'technical_11', 'fundamental_11', 'technical_11_B', 'fundamental_11_B']\n",
    "cols_lr1 = ['y_lag', 'technical_22', 'technical_34', 'technical_22_B', 'technical_34_B']\n",
    "cols_lr2 = ['ma', 'y_lag_prod', 'y_lag_diff']\n",
    "\n",
    "post_ts10 = (train.timestamp > 10)\n",
    "y_is_within_cut = (post_ts10) & (Y_CLIP_LO < train.y) & (train.y < Y_CLIP_HI)\n"
   ]
  },
  {
   "cell_type": "code",
   "execution_count": 13,
   "metadata": {
    "collapsed": false,
    "deletable": true,
    "editable": true
   },
   "outputs": [
    {
     "name": "stdout",
     "output_type": "stream",
     "text": [
      "MODEL: Extra Trees\n",
      "('Features:', 234)\n",
      "Linear Regression\n"
     ]
    }
   ],
   "source": [
    "print('MODEL: Extra Trees')\n",
    "print('Features:', len(cols_et))\n",
    "rfr = ExtraTreesRegressor(n_estimators=75, max_depth=5, min_samples_split=30, min_samples_leaf=16, n_jobs=N_THREADS, random_state=20170214)\n",
    "model_et = rfr.fit(train.loc[post_ts10, cols_et], train.loc[post_ts10, 'y'])\n",
    "\n",
    "###################################\n",
    "### Linear Models are susceptible\n",
    "### to outliers. try truncated one.\n",
    "###################################\n",
    "print('Linear Regression')\n",
    "model_lr0 = Ridge(fit_intercept=False)\n",
    "model_lr0.fit(train.loc[y_is_within_cut, cols_lr0], train.loc[y_is_within_cut, 'y'])\n",
    "\n",
    "model_lr1 = Ridge(fit_intercept=False)\n",
    "model_lr1.fit(train.loc[y_is_within_cut, cols_lr1], train.loc[y_is_within_cut, 'y'])\n",
    "\n",
    "model_lr2 = Ridge(fit_intercept=False)\n",
    "model_lr2.fit(train.loc[y_is_within_cut, cols_lr2], train.loc[y_is_within_cut, 'y'])\n",
    "\n",
    "models = {'et': model_et, 'lr0': model_lr0, 'lr1': model_lr1, 'lr2': model_lr2}\n",
    "model_cols = {'et': cols_et, 'lr0': cols_lr0, 'lr1': cols_lr1, 'lr2': cols_lr2}\n",
    "model_weights = {'et': 0.6, 'lr0': 0.22, 'lr1': 0.03, 'lr2': 0.15}"
   ]
  },
  {
   "cell_type": "code",
   "execution_count": 14,
   "metadata": {
    "collapsed": false,
    "deletable": true,
    "editable": true
   },
   "outputs": [
    {
     "name": "stderr",
     "output_type": "stream",
     "text": [
      "/Library/Frameworks/Python.framework/Versions/2.7/lib/python2.7/site-packages/ipykernel/__main__.py:3: SettingWithCopyWarning: \n",
      "A value is trying to be set on a copy of a slice from a DataFrame.\n",
      "Try using .loc[row_indexer,col_indexer] = value instead\n",
      "\n",
      "See the caveats in the documentation: http://pandas.pydata.org/pandas-docs/stable/indexing.html#indexing-view-versus-copy\n",
      "  app.launch_new_instance()\n",
      "/Library/Frameworks/Python.framework/Versions/2.7/lib/python2.7/site-packages/ipykernel/__main__.py:5: SettingWithCopyWarning: \n",
      "A value is trying to be set on a copy of a slice from a DataFrame.\n",
      "Try using .loc[row_indexer,col_indexer] = value instead\n",
      "\n",
      "See the caveats in the documentation: http://pandas.pydata.org/pandas-docs/stable/indexing.html#indexing-view-versus-copy\n"
     ]
    },
    {
     "data": {
      "text/plain": [
       "137"
      ]
     },
     "execution_count": 14,
     "metadata": {},
     "output_type": "execute_result"
    }
   ],
   "source": [
    "### Rolling Timestamp adjustment\n",
    "test = train.loc[train.timestamp > train.timestamp.max() - 14, :]\n",
    "test['y_hat'] = 0.0\n",
    "for n, m in models.items():\n",
    "    test['y_hat'] += m.predict(test[model_cols[n]]) * model_weights[n]\n",
    "med_ts = test.groupby('timestamp')[['y_lag', 'y_hat']].apply(np.std)\n",
    "med_ts = deque(med_ts['y_lag'] / med_ts['y_hat'])\n",
    "\n",
    "# Clean up\n",
    "train.drop([c for c in train.columns if c not in ['id', 'timestamp', 'y']], axis=1, inplace=True)\n",
    "del train, test, post_ts10, y_is_within_cut\n",
    "collect()"
   ]
  },
  {
   "cell_type": "code",
   "execution_count": null,
   "metadata": {
    "collapsed": false,
    "deletable": true,
    "editable": true
   },
   "outputs": [
    {
     "name": "stdout",
     "output_type": "stream",
     "text": [
      "1000 -0.31 64 1.15\n",
      "1100 -0.18 64 1.03\n",
      "1200 -0.17 54 0.95\n",
      "1300 0.00 61 1.01\n",
      "1400 -0.13 64 1.04\n",
      "1500 -0.17 52 1.01\n",
      "1600 -0.20 52 0.93\n",
      "1700 -0.30 53 0.91\n"
     ]
    }
   ],
   "source": [
    "###################################\n",
    "### rolling fitting\n",
    "###################################\n",
    "\n",
    "while True:\n",
    "    # Preprocess\n",
    "    test = o.features\n",
    "    test = preprocess_pipe.transform(test)\n",
    "\n",
    "    # Predict\n",
    "    test['y_hat'] = 0.0\n",
    "    for n, m in models.items():\n",
    "        test['y_hat'] += m.predict(test[model_cols[n]]) * model_weights[n]\n",
    "\n",
    "    # Adjust y_hat by timestamp variability\n",
    "    if len(test) > MIN_ADJ_DATA:\n",
    "        y_lag_sd_ts = test.y_lag.std()\n",
    "        y_hat_sd_ts = test.y_hat.std()\n",
    "\n",
    "        if y_lag_sd_ts > 1e-8 and y_hat_sd_ts > 1e-8:\n",
    "            a = y_lag_sd_ts / y_hat_sd_ts\n",
    "            m = np.median(med_ts)\n",
    "            if a > 1e-8 and m > 1e-8:\n",
    "                adj = np.clip(a / m, TS_ADJ_CLIP_LO, TS_ADJ_CLIP_HI)\n",
    "                test['y_hat'] *= adj\n",
    "                med_ts.popleft()\n",
    "                med_ts.append(a)\n",
    "\n",
    "    # Adjust y_hat by cumulative median\n",
    "    y_lag_meds = pd.concat([y_lag_meds, test[['id', 'y_lag']]])\n",
    "    y_lag_med = y_lag_meds.groupby('id').median().reset_index(drop=False)\n",
    "    test = pd.merge(test, y_lag_med, how='left', on='id', suffixes=['', '_med'])\n",
    "    test.loc[test.ti<10, 'y_lag_med'] = 0.0\n",
    "    test['y_hat'] = test['y_hat'] * (1 - CUMMED_ADJ_RATIO) + test['y_lag_med'] * (CUMMED_ADJ_RATIO)\n",
    "\n",
    "    # Clip\n",
    "    test['y_hat'] = test['y_hat'].clip(Y_CLIP_LO, Y_CLIP_HI)\n",
    "\n",
    "    # Cleanup\n",
    "    pred = o.target\n",
    "    pred['y'] = test['y_hat']\n",
    "    test.drop([c for c in test.columns if c not in ['id', 'timestamp', 'y_hat']], axis=1, inplace=True)\n",
    "    del y_lag_med\n",
    "    collect()\n",
    "\n",
    "    o, reward, done, info = env.step(pred)\n",
    "\n",
    "    if done:\n",
    "        print(\"el fin ...\", info[\"public_score\"])\n",
    "        break\n",
    "    if o.features.timestamp[0] % 100 == 0:\n",
    "        print('{} {:.2f} {:.0f} {:.2f}'.format(o.features.timestamp[0], reward, a, adj))\n"
   ]
  },
  {
   "cell_type": "code",
   "execution_count": null,
   "metadata": {
    "collapsed": true,
    "deletable": true,
    "editable": true
   },
   "outputs": [],
   "source": []
  }
 ],
 "metadata": {
  "kernelspec": {
   "display_name": "Python 2",
   "language": "python",
   "name": "python2"
  },
  "language_info": {
   "codemirror_mode": {
    "name": "ipython",
    "version": 2
   },
   "file_extension": ".py",
   "mimetype": "text/x-python",
   "name": "python",
   "nbconvert_exporter": "python",
   "pygments_lexer": "ipython2",
   "version": "2.7.13"
  }
 },
 "nbformat": 4,
 "nbformat_minor": 2
}
