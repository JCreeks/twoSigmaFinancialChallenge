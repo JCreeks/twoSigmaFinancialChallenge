{
 "cells": [
  {
   "cell_type": "code",
   "execution_count": 6,
   "metadata": {
    "collapsed": false,
    "deletable": true,
    "editable": true
   },
   "outputs": [],
   "source": [
    "from sklearn.grid_search import GridSearchCV\n",
    "import numpy as np\n",
    "import pandas as pd\n",
    "from sklearn.ensemble import ExtraTreesClassifier, ExtraTreesRegressor\n",
    "from sklearn.ensemble import RandomForestClassifier, RandomForestRegressor\n",
    "from sklearn.ensemble import GradientBoostingClassifier, GradientBoostingRegressor\n",
    "from sklearn.model_selection import KFold, train_test_split, TimeSeriesSplit\n",
    "from sklearn import linear_model\n",
    "import xgboost as xgb\n",
    "from xgboost import XGBClassifier, XGBRegressor\n",
    "from sklearn.metrics import log_loss, mean_squared_error as mse, r2_score, make_scorer \n",
    "from sklearn.metrics.scorer import make_scorer"
   ]
  },
  {
   "cell_type": "code",
   "execution_count": 7,
   "metadata": {
    "collapsed": false,
    "deletable": true,
    "editable": true
   },
   "outputs": [],
   "source": [
    "def CVScore(model, X_train, y_train, n_splits=5, is_TimeSeries=False, seed=2017, my_score=mse):\n",
    "    cv_scores = []\n",
    "    X_train=np.array(X_train)\n",
    "    y_train=np.array(y_train)\n",
    "    if not is_TimeSeries:\n",
    "        kf=KFold(n_splits=n_splits, shuffle=True, random_state=17)\n",
    "    else:\n",
    "        kf=TimeSeriesSplit(n_splits=n_splits)\n",
    "    for train_idx, test_idx in kf.split(X_train):\n",
    "        X_CVtrain = X_train[train_idx]\n",
    "        y_CVtrain = y_train[train_idx]\n",
    "        X_CVholdout = X_train[test_idx]\n",
    "        y_CVholdout = y_train[test_idx]\n",
    "        model.fit(X_CVtrain, y_CVtrain)\n",
    "        if my_score==log_loss:\n",
    "            pred=model.predict_proba(X_CVholdout)\n",
    "        else:\n",
    "            pred = model.predict(X_CVholdout)[:]\n",
    "        cv_scores.append(my_score(y_CVholdout, pred))\n",
    "    return np.mean(cv_scores)"
   ]
  },
  {
   "cell_type": "code",
   "execution_count": 8,
   "metadata": {
    "collapsed": true,
    "deletable": true,
    "editable": true
   },
   "outputs": [],
   "source": [
    "n=1000\n",
    "np.random.seed(17)\n",
    "X=pd.DataFrame(np.random.randn(n,1))\n",
    "y=X.iloc[:,0]+.2*pd.Series(np.random.randn(n))\n",
    "X_train,y_train=X.iloc[:n/2], y.iloc[:n/2]\n",
    "X_test, y_test=X.iloc[n/2:], y.iloc[n/2:]"
   ]
  },
  {
   "cell_type": "code",
   "execution_count": 9,
   "metadata": {
    "collapsed": false,
    "deletable": true,
    "editable": true
   },
   "outputs": [
    {
     "data": {
      "text/plain": [
       "0.043842510288573847"
      ]
     },
     "execution_count": 9,
     "metadata": {},
     "output_type": "execute_result"
    }
   ],
   "source": [
    "CVScore(linear_model.LinearRegression(fit_intercept=False), X_train, y_train, my_score=mse)"
   ]
  },
  {
   "cell_type": "code",
   "execution_count": null,
   "metadata": {
    "collapsed": true,
    "deletable": true,
    "editable": true
   },
   "outputs": [],
   "source": [
    "def RMSLE_(y_val, y_val_pred):\n",
    "    return np.sqrt(np.mean((np.log(y_val+1)-np.log(y_val_pred+1))**2))\n",
    "RMSLE = make_scorer(RMSLE_, greater_is_better=False) "
   ]
  },
  {
   "cell_type": "code",
   "execution_count": null,
   "metadata": {
    "collapsed": true
   },
   "outputs": [],
   "source": [
    "xgbreg = xgb.XGBRegressor()\n",
    "param_grid = {\n",
    "       #'n_estimators': [500],\n",
    "       'learning_rate': [ 0.05],\n",
    "       'max_depth': [5],\n",
    "       'subsample': [ 0.7],\n",
    "       'colsample_bytree': [0.7],\n",
    "        'seed':[123,2017,2]\n",
    "}\n",
    "model = GridSearchCV(estimator=xgbreg, param_grid=param_grid, n_jobs=-1, cv=3, scoring=RMSLE)\n",
    "model.fit(X_train, y_train)\n",
    "print('eXtreme Gradient Boosting regression...')\n",
    "print('Best Params:')\n",
    "print(model.best_params_)\n",
    "print('Best CV Score:')\n",
    "print(-model.best_score_)"
   ]
  }
 ],
 "metadata": {
  "kernelspec": {
   "display_name": "Python 2",
   "language": "python",
   "name": "python2"
  },
  "language_info": {
   "codemirror_mode": {
    "name": "ipython",
    "version": 2
   },
   "file_extension": ".py",
   "mimetype": "text/x-python",
   "name": "python",
   "nbconvert_exporter": "python",
   "pygments_lexer": "ipython2",
   "version": "2.7.13"
  }
 },
 "nbformat": 4,
 "nbformat_minor": 0
}
