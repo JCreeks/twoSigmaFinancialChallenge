{
 "cells": [
  {
   "cell_type": "code",
   "execution_count": 1,
   "metadata": {
    "collapsed": false,
    "deletable": true,
    "editable": true
   },
   "outputs": [
    {
     "name": "stderr",
     "output_type": "stream",
     "text": [
      "/Library/Frameworks/Python.framework/Versions/2.7/lib/python2.7/site-packages/sklearn/cross_validation.py:44: DeprecationWarning: This module was deprecated in version 0.18 in favor of the model_selection module into which all the refactored classes and functions are moved. Also note that the interface of the new CV iterators are different from that of this module. This module will be removed in 0.20.\n",
      "  \"This module will be removed in 0.20.\", DeprecationWarning)\n",
      "/Library/Frameworks/Python.framework/Versions/2.7/lib/python2.7/site-packages/sklearn/grid_search.py:43: DeprecationWarning: This module was deprecated in version 0.18 in favor of the model_selection module into which all the refactored classes and functions are moved. This module will be removed in 0.20.\n",
      "  DeprecationWarning)\n"
     ]
    }
   ],
   "source": [
    "import numpy as np\n",
    "import pandas as pd\n",
    "#from sklearn.cross_validation import KFold\n",
    "from sklearn.metrics import r2_score\n",
    "from sklearn.model_selection import KFold, train_test_split, TimeSeriesSplit\n",
    "from XGBoostPackage import xgbClass"
   ]
  },
  {
   "cell_type": "code",
   "execution_count": 29,
   "metadata": {
    "collapsed": false,
    "deletable": true,
    "editable": true
   },
   "outputs": [],
   "source": [
    "class Ensemble(object):\n",
    "    #base_models=[model1, model2, model3,...]\n",
    "    def __init__(self, n_folds, stacker, base_models, is_TimeSeries=False):\n",
    "        self.n_folds = n_folds\n",
    "        self.stacker = stacker\n",
    "        self.base_models = base_models\n",
    "        self.S_train=[]\n",
    "        self.S_test=[]\n",
    "        self.isTS=is_TimeSeries\n",
    "        #self_folds=[]\n",
    "        \n",
    "    def fit(self, X_train, y_train):\n",
    "        if not len(np.array(X_train).shape)==0:\n",
    "            X_train=np.array(X_train)\n",
    "            y_train=np.array(y_train)\n",
    "        if not self.isTS:\n",
    "            kf=KFold(n_splits=self.n_folds, shuffle=True, random_state=17)\n",
    "        else:\n",
    "            kf=TimeSeriesSplit(n_splits=self.n_folds)\n",
    "        self.S_train = np.zeros((X_train.shape[0], len(self.base_models)))\n",
    "        for i, clf in enumerate(self.base_models):\n",
    "            #clf=[clfModel for tmp in np.arange(self.n_folds)]\n",
    "            for j, (train_idx, test_idx) in enumerate(kf.split(X_train)):\n",
    "                print('startig training model {}, training set {}'.format(i,j))\n",
    "                X_CVtrain = X_train[train_idx]\n",
    "                y_CVtrain = y_train[train_idx]\n",
    "                X_CVholdout = X_train[test_idx]\n",
    "                # y_CVholdout = y_train[test_idx]\n",
    "                clf[j].fit(X_CVtrain, y_CVtrain)\n",
    "                y_pred = clf[j].predict(X_CVholdout)[:]\n",
    "                self.S_train[test_idx, i] = y_pred\n",
    "        self.stacker.fit(self.S_train, y_train)\n",
    "        \n",
    "    def predict(self, X_test):    \n",
    "        if not len(np.array(X_test).shape)==0:\n",
    "            X_test=np.array(X_test)\n",
    "        self.S_test = np.zeros((X_test.shape[0], len(self.base_models)))\n",
    "        for i, clf in enumerate(self.base_models):\n",
    "            S_test_i = np.zeros((X_test.shape[0], self.n_folds))\n",
    "            for j in range(self.n_folds):\n",
    "                print('startig predicting model {}, training set {}'.format(i,j))\n",
    "                S_test_i[:, j] = clf[j].predict(X_test)[:]\n",
    "            self.S_test[:, i] = S_test_i.mean(1)\n",
    "        y_pred = self.stacker.predict(self.S_test)[:]\n",
    "        return y_pred"
   ]
  },
  {
   "cell_type": "code",
   "execution_count": null,
   "metadata": {
    "collapsed": true
   },
   "outputs": [],
   "source": [
    "class EnsembleClassifier(object):\n",
    "    #base_models=[model1, model2, model3,...]\n",
    "    def __init__(self, n_folds, stacker, base_models, is_TimeSeries=False, n_class=1):\n",
    "        self.n_folds = n_folds\n",
    "        self.stacker = stacker\n",
    "        self.base_models = base_models\n",
    "        self.S_train=[]\n",
    "        self.S_test=[]\n",
    "        self.isTS=is_TimeSeries\n",
    "        self.n_class=n_class\n",
    "        #self_folds=[]\n",
    "        \n",
    "    def fit(self, X_train, y_train):\n",
    "        if not len(np.array(X_train).shape)==0:\n",
    "            X_train=np.array(X_train)\n",
    "            y_train=np.array(y_train)\n",
    "        if not self.isTS:\n",
    "            kf=KFold(n_splits=self.n_folds, shuffle=True, random_state=17)\n",
    "        else:\n",
    "            kf=TimeSeriesSplit(n_splits=self.n_folds)\n",
    "        self.S_train = np.zeros((X_train.shape[0], len(self.base_models)*self.n_class))\n",
    "        for i, clf in enumerate(self.base_models):\n",
    "            #clf=[clfModel for tmp in np.arange(self.n_folds)]\n",
    "            for j, (train_idx, test_idx) in enumerate(kf.split(X_train)):\n",
    "                print('startig training model {}, training set {}'.format(i,j))\n",
    "                X_CVtrain = X_train[train_idx]\n",
    "                y_CVtrain = y_train[train_idx]\n",
    "                X_CVholdout = X_train[test_idx]\n",
    "                # y_CVholdout = y_train[test_idx]\n",
    "                clf[j].fit(X_CVtrain, y_CVtrain)\n",
    "                y_pred = clf[j].predict_proba(X_CVholdout)[:]\n",
    "                self.S_train[test_idx, i:(i+self.n_class)] = y_pred\n",
    "        self.stacker.fit(self.S_train, y_train)\n",
    "        \n",
    "    def predict(self, X_test):    \n",
    "        if not len(np.array(X_test).shape)==0:\n",
    "            X_test=np.array(X_test)\n",
    "        self.S_test = np.zeros((X_test.shape[0], len(self.base_models)*self.n_class))\n",
    "        for i, clf in enumerate(self.base_models):\n",
    "            S_test_i = np.zeros((X_test.shape[0], self.n_folds))\n",
    "            for j in range(self.n_folds):\n",
    "                print('startig predicting model {}, training set {}'.format(i,j))\n",
    "                S_test_i[:, j] = clf[j].predict_proba(X_test)[:]\n",
    "            self.S_test[:, i] = S_test_i.mean(1)\n",
    "        y_pred = self.stacker.predict(self.S_test)[:]\n",
    "        return y_pred\n",
    "    \n",
    "    def predict_proba(self, X_test):    \n",
    "        if not len(np.array(X_test).shape)==0:\n",
    "            X_test=np.array(X_test)\n",
    "        self.S_test = np.zeros((X_test.shape[0], len(self.base_models)*self.n_class))\n",
    "        for i, clf in enumerate(self.base_models):\n",
    "            S_test_i = np.zeros((X_test.shape[0], self.n_folds))\n",
    "            for j in range(self.n_folds):\n",
    "                print('startig predict_proba model {}, training set {}'.format(i,j))\n",
    "                S_test_i[:, j] = clf[j].predict_proba(X_test)[:]\n",
    "            self.S_test[:, i] = S_test_i.mean(1)\n",
    "        y_pred = self.stacker.predict_proba(self.S_test)[:]\n",
    "        return y_pred"
   ]
  },
  {
   "cell_type": "code",
   "execution_count": 23,
   "metadata": {
    "collapsed": true,
    "deletable": true,
    "editable": true
   },
   "outputs": [],
   "source": [
    "# class Ensemble(object):\n",
    "#     #base_models=[model1, model2, model3,...]\n",
    "#     def __init__(self, n_folds, stacker, base_models, is_TimeSeries=False):\n",
    "#         self.n_folds = n_folds\n",
    "#         self.stacker = stacker\n",
    "#         self.base_models = base_models\n",
    "#         self.fitted_models=[]\n",
    "#         self.S_train=[]\n",
    "#         self.S_test=[]\n",
    "#         self.isTS=is_TimeSeries\n",
    "#         #self_folds=[]\n",
    "        \n",
    "#     def fit(self, X_train, y_train):\n",
    "#         X_train=np.array(X_train)\n",
    "#         y_train=np.array(y_train)\n",
    "#         if not self.isTS:\n",
    "#             kf=KFold(n_splits=self.n_folds, shuffle=True, random_state=17)\n",
    "#         else:\n",
    "#             kf=TimeSeriesSplit(n_splits=self.n_folds)\n",
    "#         self.S_train = np.zeros((X_train.shape[0], len(self.base_models)))\n",
    "#         for i, clfModel in enumerate(self.base_models):\n",
    "#             clf=[clfModel() for tmp in np.arange(self.n_folds)]\n",
    "#             self.fitted_models.append(clf)\n",
    "#             for j, (train_idx, test_idx) in enumerate(kf.split(np.arange(len(X_train)))):\n",
    "#                 X_CVtrain = X_train[train_idx]\n",
    "#                 y_CVtrain = y_train[train_idx]\n",
    "#                 X_CVholdout = X_train[test_idx]\n",
    "#                 # y_CVholdout = y_train[test_idx]\n",
    "#                 clf[j].fit(X_CVtrain, y_CVtrain)\n",
    "#                 y_pred = clf[j].predict(X_CVholdout)[:]\n",
    "#                 self.S_train[test_idx, i] = y_pred\n",
    "#         self.stacker.fit(self.S_train, y_train)\n",
    "        \n",
    "#     def predict(self, X_test):    \n",
    "#         X_test=np.array(X_test)\n",
    "#         self.S_test = np.zeros((X_test.shape[0], len(self.base_models)))\n",
    "#         for i, clfModel in enumerate(self.base_models):\n",
    "#             clf=self.fitted_models[i]\n",
    "#             S_test_i = np.zeros((X_test.shape[0], self.n_folds))\n",
    "#             for j in range(self.n_folds):\n",
    "#                 S_test_i[:, j] = clf[j].predict(X_test)[:]\n",
    "#             self.S_test[:, i] = S_test_i.mean(1)\n",
    "#         y_pred = self.stacker.predict(self.S_test)[:]\n",
    "#         return y_pred"
   ]
  },
  {
   "cell_type": "code",
   "execution_count": 8,
   "metadata": {
    "collapsed": false,
    "deletable": true,
    "editable": true
   },
   "outputs": [],
   "source": [
    "n=100000\n",
    "X=pd.DataFrame(np.random.randn(n,1))\n",
    "y=X.iloc[:,0]+.2*pd.Series(np.random.randn(n))\n",
    "X_train,y_train=X.iloc[:n/2], y.iloc[:n/2]\n",
    "X_test, y_test=X.iloc[n/2:], y.iloc[n/2:]\n",
    "\n"
   ]
  },
  {
   "cell_type": "code",
   "execution_count": 6,
   "metadata": {
    "collapsed": true,
    "deletable": true,
    "editable": true
   },
   "outputs": [
    {
     "ename": "KeyboardInterrupt",
     "evalue": "",
     "output_type": "error",
     "traceback": [
      "\u001b[1;31m---------------------------------------------------------------------------\u001b[0m",
      "\u001b[1;31mKeyboardInterrupt\u001b[0m                         Traceback (most recent call last)",
      "\u001b[1;32mC:\\Users\\jiguo\\AppData\\Local\\Enthought\\Canopy\\App\\appdata\\canopy-1.7.4.3348.win-x86_64\\lib\\codeop.pyc\u001b[0m in \u001b[0;36m__call__\u001b[1;34m(self, source, filename, symbol)\u001b[0m\n\u001b[0;32m    133\u001b[0m         \u001b[0mcodeob\u001b[0m \u001b[1;33m=\u001b[0m \u001b[0mcompile\u001b[0m\u001b[1;33m(\u001b[0m\u001b[0msource\u001b[0m\u001b[1;33m,\u001b[0m \u001b[0mfilename\u001b[0m\u001b[1;33m,\u001b[0m \u001b[0msymbol\u001b[0m\u001b[1;33m,\u001b[0m \u001b[0mself\u001b[0m\u001b[1;33m.\u001b[0m\u001b[0mflags\u001b[0m\u001b[1;33m,\u001b[0m \u001b[1;36m1\u001b[0m\u001b[1;33m)\u001b[0m\u001b[1;33m\u001b[0m\u001b[0m\n\u001b[0;32m    134\u001b[0m         \u001b[1;32mfor\u001b[0m \u001b[0mfeature\u001b[0m \u001b[1;32min\u001b[0m \u001b[0m_features\u001b[0m\u001b[1;33m:\u001b[0m\u001b[1;33m\u001b[0m\u001b[0m\n\u001b[1;32m--> 135\u001b[1;33m             \u001b[1;32mif\u001b[0m \u001b[0mcodeob\u001b[0m\u001b[1;33m.\u001b[0m\u001b[0mco_flags\u001b[0m \u001b[1;33m&\u001b[0m \u001b[0mfeature\u001b[0m\u001b[1;33m.\u001b[0m\u001b[0mcompiler_flag\u001b[0m\u001b[1;33m:\u001b[0m\u001b[1;33m\u001b[0m\u001b[0m\n\u001b[0m\u001b[0;32m    136\u001b[0m                 \u001b[0mself\u001b[0m\u001b[1;33m.\u001b[0m\u001b[0mflags\u001b[0m \u001b[1;33m|=\u001b[0m \u001b[0mfeature\u001b[0m\u001b[1;33m.\u001b[0m\u001b[0mcompiler_flag\u001b[0m\u001b[1;33m\u001b[0m\u001b[0m\n\u001b[0;32m    137\u001b[0m         \u001b[1;32mreturn\u001b[0m \u001b[0mcodeob\u001b[0m\u001b[1;33m\u001b[0m\u001b[0m\n",
      "\u001b[1;31mKeyboardInterrupt\u001b[0m: "
     ]
    }
   ],
   "source": [
    "# import kagglegym\n",
    "# env = kagglegym.make()\n",
    "# o = env.reset()\n",
    "# excl = [env.ID_COL_NAME, env.SAMPLE_COL_NAME, env.TARGET_COL_NAME, env.TIME_COL_NAME]\n",
    "# col = [c for c in o.train.columns if c not in excl]\n",
    "\n",
    "# O = pd.read_hdf('../input/train.h5')\n",
    "# d_mean= O[col].median(axis=0)\n",
    "\n",
    "# ymean_dict = dict(o.train.groupby([\"id\"])[\"y\"].median())\n",
    "\n",
    "# X_train=(O[col])[O.timestamp <= 905]\n",
    "# y_train=O.y[O.timestamp <= 905]\n",
    "# X_test=(O[col])[O.timestamp > 905]\n",
    "# y_test=O.y[O.timestamp > 905]\n",
    "# X_train=X_train.fillna(d_mean)\n",
    "# X_test=X_test.fillna(d_mean)"
   ]
  },
  {
   "cell_type": "code",
   "execution_count": 30,
   "metadata": {
    "collapsed": false,
    "deletable": true,
    "editable": true
   },
   "outputs": [
    {
     "data": {
      "text/plain": [
       "0.96159169367394837"
      ]
     },
     "execution_count": 30,
     "metadata": {},
     "output_type": "execute_result"
    }
   ],
   "source": [
    "from sklearn.linear_model import LinearRegression, Ridge\n",
    "n_folds=5\n",
    "ensembleObj=Ensemble(n_folds=n_folds, stacker=LinearRegression(fit_intercept=False, n_jobs=7), \\\n",
    "                     base_models=[[LinearRegression() for i in np.arange(n_folds)],\\\n",
    "                                 [Ridge() for i in np.arange(n_folds)],\\\n",
    "                                 [xgbClass(objective='reg:linear', eva_metric=\"rmse\") for i in np.arange(n_folds)]], \\\n",
    "                     is_TimeSeries=False)#,\\\n",
    "ensembleObj.fit(X_train=X_train, y_train=y_train)\n",
    "pred=ensembleObj.predict(X_test=X_test)\n",
    "r2_score(y_test, pred)\n",
    "#0.96163045588344376"
   ]
  },
  {
   "cell_type": "code",
   "execution_count": 24,
   "metadata": {
    "collapsed": false,
    "deletable": true,
    "editable": true
   },
   "outputs": [
    {
     "data": {
      "text/plain": [
       "0.96159442778339299"
      ]
     },
     "execution_count": 24,
     "metadata": {},
     "output_type": "execute_result"
    }
   ],
   "source": [
    "# from sklearn.linear_model import LinearRegression, Ridge\n",
    "# n_folds=5\n",
    "# ensembleObj=Ensemble(n_folds=n_folds, stacker=LinearRegression(fit_intercept=False, n_jobs=7), \\\n",
    "#                      base_models=[LinearRegression, Ridge],\n",
    "#                      is_TimeSeries=False)#,\\\n",
    "# ensembleObj.fit(X_train=X_train, y_train=y_train)\n",
    "# pred=ensembleObj.predict(X_test=X_test)\n",
    "# r2_score(y_test, pred)"
   ]
  },
  {
   "cell_type": "code",
   "execution_count": null,
   "metadata": {
    "collapsed": true,
    "deletable": true,
    "editable": true
   },
   "outputs": [],
   "source": []
  }
 ],
 "metadata": {
  "kernelspec": {
   "display_name": "Python 2",
   "language": "python",
   "name": "python2"
  },
  "language_info": {
   "codemirror_mode": {
    "name": "ipython",
    "version": 2
   },
   "file_extension": ".py",
   "mimetype": "text/x-python",
   "name": "python",
   "nbconvert_exporter": "python",
   "pygments_lexer": "ipython2",
   "version": "2.7.13"
  }
 },
 "nbformat": 4,
 "nbformat_minor": 0
}
